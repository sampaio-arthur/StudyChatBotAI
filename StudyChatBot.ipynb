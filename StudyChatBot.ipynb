{
  "cells": [
    {
      "cell_type": "code",
      "execution_count": 1,
      "metadata": {
        "colab": {
          "base_uri": "https://localhost:8080/"
        },
        "id": "iwPwPpe_kFF2",
        "outputId": "3ff6a712-62fb-4d98-8cd9-7ab74c796c57"
      },
      "outputs": [
        {
          "name": "stdout",
          "output_type": "stream",
          "text": [
            "^C\n"
          ]
        },
        {
          "name": "stdout",
          "output_type": "stream",
          "text": [
            "Collecting google-generativeai\n",
            "  Downloading google_generativeai-0.8.3-py3-none-any.whl.metadata (3.9 kB)\n",
            "Collecting google-ai-generativelanguage==0.6.10 (from google-generativeai)\n",
            "  Downloading google_ai_generativelanguage-0.6.10-py3-none-any.whl.metadata (5.6 kB)\n",
            "Collecting google-api-core (from google-generativeai)\n",
            "  Downloading google_api_core-2.21.0-py3-none-any.whl.metadata (2.8 kB)\n",
            "Collecting google-api-python-client (from google-generativeai)\n",
            "  Downloading google_api_python_client-2.149.0-py2.py3-none-any.whl.metadata (6.7 kB)\n",
            "Collecting google-auth>=2.15.0 (from google-generativeai)\n",
            "  Downloading google_auth-2.35.0-py2.py3-none-any.whl.metadata (4.7 kB)\n",
            "Collecting protobuf (from google-generativeai)\n",
            "  Downloading protobuf-5.28.2-cp310-abi3-win_amd64.whl.metadata (592 bytes)\n",
            "Collecting pydantic (from google-generativeai)\n",
            "  Downloading pydantic-2.9.2-py3-none-any.whl.metadata (149 kB)\n",
            "Requirement already satisfied: tqdm in c:\\users\\sampaio\\appdata\\local\\programs\\python\\python312\\lib\\site-packages (from google-generativeai) (4.66.5)\n",
            "Requirement already satisfied: typing-extensions in c:\\users\\sampaio\\appdata\\local\\programs\\python\\python312\\lib\\site-packages (from google-generativeai) (4.12.2)\n",
            "Collecting proto-plus<2.0.0dev,>=1.22.3 (from google-ai-generativelanguage==0.6.10->google-generativeai)\n",
            "  Downloading proto_plus-1.24.0-py3-none-any.whl.metadata (2.2 kB)\n",
            "Collecting googleapis-common-protos<2.0.dev0,>=1.56.2 (from google-api-core->google-generativeai)\n",
            "  Downloading googleapis_common_protos-1.65.0-py2.py3-none-any.whl.metadata (1.5 kB)\n",
            "Requirement already satisfied: requests<3.0.0.dev0,>=2.18.0 in c:\\users\\sampaio\\appdata\\local\\programs\\python\\python312\\lib\\site-packages (from google-api-core->google-generativeai) (2.32.3)\n",
            "Collecting cachetools<6.0,>=2.0.0 (from google-auth>=2.15.0->google-generativeai)\n",
            "  Downloading cachetools-5.5.0-py3-none-any.whl.metadata (5.3 kB)\n",
            "Collecting pyasn1-modules>=0.2.1 (from google-auth>=2.15.0->google-generativeai)\n",
            "  Downloading pyasn1_modules-0.4.1-py3-none-any.whl.metadata (3.5 kB)\n",
            "Collecting rsa<5,>=3.1.4 (from google-auth>=2.15.0->google-generativeai)\n",
            "  Downloading rsa-4.9-py3-none-any.whl.metadata (4.2 kB)\n",
            "Collecting httplib2<1.dev0,>=0.19.0 (from google-api-python-client->google-generativeai)\n",
            "  Downloading httplib2-0.22.0-py3-none-any.whl.metadata (2.6 kB)\n",
            "Collecting google-auth-httplib2<1.0.0,>=0.2.0 (from google-api-python-client->google-generativeai)\n",
            "  Downloading google_auth_httplib2-0.2.0-py2.py3-none-any.whl.metadata (2.2 kB)\n",
            "Collecting uritemplate<5,>=3.0.1 (from google-api-python-client->google-generativeai)\n",
            "  Downloading uritemplate-4.1.1-py2.py3-none-any.whl.metadata (2.9 kB)\n",
            "Collecting annotated-types>=0.6.0 (from pydantic->google-generativeai)\n",
            "  Downloading annotated_types-0.7.0-py3-none-any.whl.metadata (15 kB)\n",
            "Collecting pydantic-core==2.23.4 (from pydantic->google-generativeai)\n",
            "  Downloading pydantic_core-2.23.4-cp312-none-win_amd64.whl.metadata (6.7 kB)\n",
            "Requirement already satisfied: colorama in c:\\users\\sampaio\\appdata\\roaming\\python\\python312\\site-packages (from tqdm->google-generativeai) (0.4.6)\n",
            "Collecting grpcio<2.0dev,>=1.33.2 (from google-api-core[grpc]!=2.0.*,!=2.1.*,!=2.10.*,!=2.2.*,!=2.3.*,!=2.4.*,!=2.5.*,!=2.6.*,!=2.7.*,!=2.8.*,!=2.9.*,<3.0.0dev,>=1.34.1->google-ai-generativelanguage==0.6.10->google-generativeai)\n",
            "  Downloading grpcio-1.67.0-cp312-cp312-win_amd64.whl.metadata (4.0 kB)\n",
            "Collecting grpcio-status<2.0.dev0,>=1.33.2 (from google-api-core[grpc]!=2.0.*,!=2.1.*,!=2.10.*,!=2.2.*,!=2.3.*,!=2.4.*,!=2.5.*,!=2.6.*,!=2.7.*,!=2.8.*,!=2.9.*,<3.0.0dev,>=1.34.1->google-ai-generativelanguage==0.6.10->google-generativeai)\n",
            "  Downloading grpcio_status-1.67.0-py3-none-any.whl.metadata (1.1 kB)\n",
            "Collecting pyparsing!=3.0.0,!=3.0.1,!=3.0.2,!=3.0.3,<4,>=2.4.2 (from httplib2<1.dev0,>=0.19.0->google-api-python-client->google-generativeai)\n",
            "  Downloading pyparsing-3.2.0-py3-none-any.whl.metadata (5.0 kB)\n",
            "Collecting pyasn1<0.7.0,>=0.4.6 (from pyasn1-modules>=0.2.1->google-auth>=2.15.0->google-generativeai)\n",
            "  Downloading pyasn1-0.6.1-py3-none-any.whl.metadata (8.4 kB)\n",
            "Requirement already satisfied: charset-normalizer<4,>=2 in c:\\users\\sampaio\\appdata\\local\\programs\\python\\python312\\lib\\site-packages (from requests<3.0.0.dev0,>=2.18.0->google-api-core->google-generativeai) (3.4.0)\n",
            "Requirement already satisfied: idna<4,>=2.5 in c:\\users\\sampaio\\appdata\\local\\programs\\python\\python312\\lib\\site-packages (from requests<3.0.0.dev0,>=2.18.0->google-api-core->google-generativeai) (3.10)\n",
            "Requirement already satisfied: urllib3<3,>=1.21.1 in c:\\users\\sampaio\\appdata\\local\\programs\\python\\python312\\lib\\site-packages (from requests<3.0.0.dev0,>=2.18.0->google-api-core->google-generativeai) (2.2.3)\n",
            "Requirement already satisfied: certifi>=2017.4.17 in c:\\users\\sampaio\\appdata\\local\\programs\\python\\python312\\lib\\site-packages (from requests<3.0.0.dev0,>=2.18.0->google-api-core->google-generativeai) (2024.8.30)\n",
            "Downloading google_generativeai-0.8.3-py3-none-any.whl (160 kB)\n",
            "Downloading google_ai_generativelanguage-0.6.10-py3-none-any.whl (760 kB)\n",
            "   ---------------------------------------- 0.0/760.0 kB ? eta -:--:--\n",
            "   --------------------------- ------------ 524.3/760.0 kB 2.8 MB/s eta 0:00:01\n",
            "   ---------------------------------------- 760.0/760.0 kB 2.7 MB/s eta 0:00:00\n",
            "Downloading google_api_core-2.21.0-py3-none-any.whl (156 kB)\n",
            "Downloading google_auth-2.35.0-py2.py3-none-any.whl (208 kB)\n",
            "Downloading protobuf-5.28.2-cp310-abi3-win_amd64.whl (431 kB)\n",
            "Downloading google_api_python_client-2.149.0-py2.py3-none-any.whl (12.3 MB)\n",
            "   ---------------------------------------- 0.0/12.3 MB ? eta -:--:--\n",
            "   - -------------------------------------- 0.5/12.3 MB 2.8 MB/s eta 0:00:05\n",
            "   --- ------------------------------------ 1.0/12.3 MB 3.0 MB/s eta 0:00:04\n",
            "   ----- ---------------------------------- 1.6/12.3 MB 2.5 MB/s eta 0:00:05\n",
            "   ------ --------------------------------- 2.1/12.3 MB 2.6 MB/s eta 0:00:04\n",
            "   -------- ------------------------------- 2.6/12.3 MB 2.6 MB/s eta 0:00:04\n",
            "   ---------- ----------------------------- 3.1/12.3 MB 2.6 MB/s eta 0:00:04\n",
            "   ----------- ---------------------------- 3.7/12.3 MB 2.7 MB/s eta 0:00:04\n",
            "   ------------- -------------------------- 4.2/12.3 MB 2.5 MB/s eta 0:00:04\n",
            "   --------------- ------------------------ 4.7/12.3 MB 2.6 MB/s eta 0:00:03\n",
            "   ----------------- ---------------------- 5.2/12.3 MB 2.6 MB/s eta 0:00:03\n",
            "   ------------------- -------------------- 6.0/12.3 MB 2.6 MB/s eta 0:00:03\n",
            "   -------------------- ------------------- 6.3/12.3 MB 2.5 MB/s eta 0:00:03\n",
            "   ---------------------- ----------------- 6.8/12.3 MB 2.5 MB/s eta 0:00:03\n",
            "   ----------------------- ---------------- 7.3/12.3 MB 2.5 MB/s eta 0:00:02\n",
            "   ------------------------ --------------- 7.6/12.3 MB 2.5 MB/s eta 0:00:02\n",
            "   -------------------------- ------------- 8.1/12.3 MB 2.4 MB/s eta 0:00:02\n",
            "   ---------------------------- ----------- 8.7/12.3 MB 2.4 MB/s eta 0:00:02\n",
            "   ----------------------------- ---------- 9.2/12.3 MB 2.4 MB/s eta 0:00:02\n",
            "   -------------------------------- ------- 10.0/12.3 MB 2.5 MB/s eta 0:00:01\n",
            "   ---------------------------------- ----- 10.5/12.3 MB 2.5 MB/s eta 0:00:01\n",
            "   ------------------------------------ --- 11.3/12.3 MB 2.6 MB/s eta 0:00:01\n",
            "   -------------------------------------- - 11.8/12.3 MB 2.6 MB/s eta 0:00:01\n",
            "   ---------------------------------------  12.1/12.3 MB 2.6 MB/s eta 0:00:01\n",
            "   ---------------------------------------- 12.3/12.3 MB 2.5 MB/s eta 0:00:00\n",
            "Downloading pydantic-2.9.2-py3-none-any.whl (434 kB)\n",
            "Downloading pydantic_core-2.23.4-cp312-none-win_amd64.whl (1.9 MB)\n",
            "   ---------------------------------------- 0.0/1.9 MB ? eta -:--:--\n",
            "   ---------- ----------------------------- 0.5/1.9 MB 3.3 MB/s eta 0:00:01\n",
            "   --------------------- ------------------ 1.0/1.9 MB 3.0 MB/s eta 0:00:01\n",
            "   -------------------------------- ------- 1.6/1.9 MB 2.5 MB/s eta 0:00:01\n",
            "   ---------------------------------------- 1.9/1.9 MB 2.5 MB/s eta 0:00:00\n",
            "Downloading annotated_types-0.7.0-py3-none-any.whl (13 kB)\n",
            "Downloading cachetools-5.5.0-py3-none-any.whl (9.5 kB)\n",
            "Downloading google_auth_httplib2-0.2.0-py2.py3-none-any.whl (9.3 kB)\n",
            "Downloading googleapis_common_protos-1.65.0-py2.py3-none-any.whl (220 kB)\n",
            "Downloading httplib2-0.22.0-py3-none-any.whl (96 kB)\n",
            "Downloading proto_plus-1.24.0-py3-none-any.whl (50 kB)\n",
            "Downloading pyasn1_modules-0.4.1-py3-none-any.whl (181 kB)\n",
            "Downloading rsa-4.9-py3-none-any.whl (34 kB)\n",
            "Downloading uritemplate-4.1.1-py2.py3-none-any.whl (10 kB)\n",
            "Downloading grpcio-1.67.0-cp312-cp312-win_amd64.whl (4.3 MB)\n",
            "   ---------------------------------------- 0.0/4.3 MB ? eta -:--:--\n",
            "   ---- ----------------------------------- 0.5/4.3 MB 2.8 MB/s eta 0:00:02\n",
            "   --------- ------------------------------ 1.0/4.3 MB 3.0 MB/s eta 0:00:02\n",
            "   ---------------- ----------------------- 1.8/4.3 MB 3.0 MB/s eta 0:00:01\n",
            "   --------------------- ------------------ 2.4/4.3 MB 2.9 MB/s eta 0:00:01\n",
            "   ---------------------------- ----------- 3.1/4.3 MB 3.0 MB/s eta 0:00:01\n",
            "   ---------------------------- ----------- 3.1/4.3 MB 3.0 MB/s eta 0:00:01\n",
            "   ------------------------------- -------- 3.4/4.3 MB 2.5 MB/s eta 0:00:01\n",
            "   ------------------------------------ --- 3.9/4.3 MB 2.3 MB/s eta 0:00:01\n",
            "   ---------------------------------------- 4.3/4.3 MB 2.3 MB/s eta 0:00:00\n",
            "Downloading grpcio_status-1.67.0-py3-none-any.whl (14 kB)\n",
            "Downloading pyasn1-0.6.1-py3-none-any.whl (83 kB)\n",
            "Downloading pyparsing-3.2.0-py3-none-any.whl (106 kB)\n",
            "Installing collected packages: uritemplate, pyparsing, pydantic-core, pyasn1, protobuf, grpcio, cachetools, annotated-types, rsa, pydantic, pyasn1-modules, proto-plus, httplib2, googleapis-common-protos, grpcio-status, google-auth, google-auth-httplib2, google-api-core, google-api-python-client, google-ai-generativelanguage, google-generativeai\n",
            "Successfully installed annotated-types-0.7.0 cachetools-5.5.0 google-ai-generativelanguage-0.6.10 google-api-core-2.21.0 google-api-python-client-2.149.0 google-auth-2.35.0 google-auth-httplib2-0.2.0 google-generativeai-0.8.3 googleapis-common-protos-1.65.0 grpcio-1.67.0 grpcio-status-1.67.0 httplib2-0.22.0 proto-plus-1.24.0 protobuf-5.28.2 pyasn1-0.6.1 pyasn1-modules-0.4.1 pydantic-2.9.2 pydantic-core-2.23.4 pyparsing-3.2.0 rsa-4.9 uritemplate-4.1.1\n"
          ]
        }
      ],
      "source": [
        "!pip install google-generativeai"
      ]
    },
    {
      "cell_type": "code",
      "execution_count": 3,
      "metadata": {
        "id": "I9kHTHfLlAo-"
      },
      "outputs": [],
      "source": [
        "import google.generativeai as genai\n",
        "from dotenv import load_dotenv\n",
        "import os\n",
        "\n",
        "\n",
        "load_dotenv()\n",
        "\n",
        "\n",
        "GOOGLE_GEMINI_API_KEY = os.getenv(\"GOOGLE_GEMINI_API_KEY\")\n",
        "\n",
        "genai.configure(api_key=GOOGLE_GEMINI_API_KEY)"
      ]
    },
    {
      "cell_type": "code",
      "execution_count": 4,
      "metadata": {
        "colab": {
          "base_uri": "https://localhost:8080/",
          "height": 416
        },
        "id": "f0Q-hH_Bl6Kj",
        "outputId": "31f864ff-bed8-4aed-c86b-655b85469982"
      },
      "outputs": [
        {
          "name": "stdout",
          "output_type": "stream",
          "text": [
            "models/gemini-1.0-pro-latest\n",
            "models/gemini-1.0-pro\n",
            "models/gemini-pro\n",
            "models/gemini-1.0-pro-001\n",
            "models/gemini-1.0-pro-vision-latest\n",
            "models/gemini-pro-vision\n",
            "models/gemini-1.5-pro-latest\n",
            "models/gemini-1.5-pro-001\n",
            "models/gemini-1.5-pro-002\n",
            "models/gemini-1.5-pro\n",
            "models/gemini-1.5-pro-exp-0801\n",
            "models/gemini-1.5-pro-exp-0827\n",
            "models/gemini-1.5-flash-latest\n",
            "models/gemini-1.5-flash-001\n",
            "models/gemini-1.5-flash-001-tuning\n",
            "models/gemini-1.5-flash\n",
            "models/gemini-1.5-flash-exp-0827\n",
            "models/gemini-1.5-flash-002\n",
            "models/gemini-1.5-flash-8b\n",
            "models/gemini-1.5-flash-8b-001\n",
            "models/gemini-1.5-flash-8b-latest\n",
            "models/gemini-1.5-flash-8b-exp-0827\n",
            "models/gemini-1.5-flash-8b-exp-0924\n"
          ]
        }
      ],
      "source": [
        "for m in genai.list_models():\n",
        "  if \"generateContent\" in m.supported_generation_methods:\n",
        "    print(m.name)\n"
      ]
    },
    {
      "cell_type": "code",
      "execution_count": 5,
      "metadata": {
        "id": "K9JF7alVr1do"
      },
      "outputs": [],
      "source": [
        "model = genai.GenerativeModel(\"gemini-1.5-pro-latest\")"
      ]
    },
    {
      "cell_type": "code",
      "execution_count": 6,
      "metadata": {
        "colab": {
          "base_uri": "https://localhost:8080/",
          "height": 105
        },
        "id": "yx3XT0s3mCPc",
        "outputId": "f8ca2cd9-c8dc-4ba0-917c-7a65518e4706"
      },
      "outputs": [
        {
          "data": {
            "text/plain": [
              "'Bom dia! \\n\\nComo posso ajudar você hoje? \\n'"
            ]
          },
          "execution_count": 6,
          "metadata": {},
          "output_type": "execute_result"
        }
      ],
      "source": [
        "response = model.generate_content(input((\"Pergunte algo: \")))\n",
        "response.text"
      ]
    },
    {
      "cell_type": "code",
      "execution_count": 8,
      "metadata": {
        "colab": {
          "base_uri": "https://localhost:8080/",
          "height": 453
        },
        "id": "_N8hlcVPuBzg",
        "outputId": "5219b136-f0db-4e7a-b56a-95d680aebd97"
      },
      "outputs": [
        {
          "name": "stdout",
          "output_type": "stream",
          "text": [
            "Olá! Como posso te ajudar hoje? \n",
            "\n",
            "Ajudar a encontrar a casa perfeita para alugar seria um prazer! Para te dar as melhores opções, preciso de algumas informações. Me fale sobre a casa ideal: \n",
            "\n",
            "* **Onde você busca?** (cidade, bairro e se possível um raio de distância)\n",
            "* **Quantos quartos e banheiros você precisa?**\n",
            "* **Qual o tamanho ideal da casa?** (em metros quadrados ou número de quartos)\n",
            "* **Qual o seu orçamento para aluguel?**\n",
            "* **Há outros detalhes importantes?** (animais de estimação, garagem, quintal, etc.)\n",
            "\n",
            "Quanto mais detalhes você me der, melhores serão as sugestões! 😊 \n",
            "\n"
          ]
        }
      ],
      "source": [
        "chat = model.start_chat(history=[])\n",
        "\n",
        "prompt = input(\"Esperando você iniciar a conversa: (Digite 'fim' para encerrar a conversa) \")\n",
        "\n",
        "while prompt != \"fim\":\n",
        " response = chat.send_message(prompt)\n",
        " print(response.text)\n",
        " prompt = input(\"Esperando você perguntar algo: (Digite 'fim' para encerrar a conversa) \")"
      ]
    }
  ],
  "metadata": {
    "colab": {
      "provenance": []
    },
    "kernelspec": {
      "display_name": "Python 3",
      "name": "python3"
    },
    "language_info": {
      "codemirror_mode": {
        "name": "ipython",
        "version": 3
      },
      "file_extension": ".py",
      "mimetype": "text/x-python",
      "name": "python",
      "nbconvert_exporter": "python",
      "pygments_lexer": "ipython3",
      "version": "3.12.6"
    }
  },
  "nbformat": 4,
  "nbformat_minor": 0
}
